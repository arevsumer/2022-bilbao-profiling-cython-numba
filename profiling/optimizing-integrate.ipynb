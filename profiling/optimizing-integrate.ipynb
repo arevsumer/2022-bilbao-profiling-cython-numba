{
 "cells": [
  {
   "cell_type": "code",
   "execution_count": 9,
   "id": "6ecd4518",
   "metadata": {},
   "outputs": [],
   "source": [
    "def integrate(f, a, b, n):\n",
    "    s = []\n",
    "    for i in range(n):\n",
    "        dx = (b - a) / n\n",
    "        x = a + (i + 0.5) * dx\n",
    "        y = f(x)\n",
    "        s = s + [y * dx]\n",
    "    return sum(s)\n",
    "\n",
    "\n"
   ]
  },
  {
   "cell_type": "code",
   "execution_count": 11,
   "id": "da02e091",
   "metadata": {},
   "outputs": [],
   "source": [
    "def f(x):\n",
    "    return x ** 4 - 3 * x"
   ]
  },
  {
   "cell_type": "code",
   "execution_count": 12,
   "id": "8a500192",
   "metadata": {},
   "outputs": [],
   "source": [
    "a = -2\n",
    "b = 2\n",
    "n = 5000"
   ]
  },
  {
   "cell_type": "code",
   "execution_count": 13,
   "id": "47513381",
   "metadata": {},
   "outputs": [
    {
     "data": {
      "text/plain": [
       "12.79999829333338"
      ]
     },
     "execution_count": 13,
     "metadata": {},
     "output_type": "execute_result"
    }
   ],
   "source": [
    "integrate1(f, a, b, n)"
   ]
  },
  {
   "cell_type": "code",
   "execution_count": 10,
   "id": "a9d0dd80",
   "metadata": {},
   "outputs": [],
   "source": [
    "\n",
    "def integrate1(f, a, b, n):\n",
    "    s = []\n",
    "    for i in range(n):\n",
    "        dx = (b - a) / n\n",
    "        x = a + (i + 0.5) * dx\n",
    "        y = f(x)\n",
    "        s.append(y * dx)\n",
    "    return sum(s)\n",
    "\n",
    "\n"
   ]
  },
  {
   "cell_type": "code",
   "execution_count": null,
   "id": "97550aea",
   "metadata": {},
   "outputs": [],
   "source": [
    "def integrate1(f, a, b, n):\n",
    "    s = []\n",
    "    for i in range(n):\n",
    "        dx = (b - a) / n\n",
    "        x = a + (i + 0.5) * dx\n",
    "        y = f(x)\n",
    "        s.append(y * dx)\n",
    "    return sum(s)\n"
   ]
  },
  {
   "cell_type": "code",
   "execution_count": null,
   "id": "4792b59a",
   "metadata": {},
   "outputs": [],
   "source": []
  }
 ],
 "metadata": {
  "kernelspec": {
   "display_name": "Python 3 (ipykernel)",
   "language": "python",
   "name": "python3"
  },
  "language_info": {
   "codemirror_mode": {
    "name": "ipython",
    "version": 3
   },
   "file_extension": ".py",
   "mimetype": "text/x-python",
   "name": "python",
   "nbconvert_exporter": "python",
   "pygments_lexer": "ipython3",
   "version": "3.10.6"
  }
 },
 "nbformat": 4,
 "nbformat_minor": 5
}
