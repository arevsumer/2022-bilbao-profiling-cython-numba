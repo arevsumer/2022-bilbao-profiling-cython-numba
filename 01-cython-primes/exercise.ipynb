{
 "cells": [
  {
   "cell_type": "markdown",
   "metadata": {},
   "source": [
    "# Exercise 1 — calculation of prime numbers using a brute-force approach"
   ]
  },
  {
   "cell_type": "code",
   "execution_count": 13,
   "metadata": {},
   "outputs": [],
   "source": [
    "# %load original.py\n",
    "def nth_prime(n):\n",
    "    n_found = 0\n",
    "    candidate = 2\n",
    "    while True:\n",
    "        good = True\n",
    "        for div in range(2, candidate):\n",
    "            if candidate % div == 0:\n",
    "                good = False\n",
    "                break\n",
    "        if good:\n",
    "            n_found += 1\n",
    "            if n_found == n:\n",
    "                return candidate\n",
    "        # try with the next number\n",
    "        candidate += 1\n"
   ]
  },
  {
   "cell_type": "code",
   "execution_count": 14,
   "metadata": {},
   "outputs": [],
   "source": [
    "assert nth_prime(1) == 2\n",
    "assert nth_prime(2) == 3\n",
    "assert nth_prime(3) == 5\n",
    "assert nth_prime(4) == 7"
   ]
  },
  {
   "cell_type": "markdown",
   "metadata": {},
   "source": [
    "### Step 1\n",
    "0. Measure the runtime of the pure Python implementation.\n",
    "1. Use Cython to speed up the calculation.\n",
    "2. Check times with %timeit.\n",
    "\n",
    "Hint: use `%%cython -a` to get hints about Python<->interaction."
   ]
  },
  {
   "cell_type": "code",
   "execution_count": 27,
   "metadata": {},
   "outputs": [
    {
     "name": "stdout",
     "output_type": "stream",
     "text": [
      "154 ns ± 1.11 ns per loop (mean ± std. dev. of 7 runs, 10,000,000 loops each)\n"
     ]
    }
   ],
   "source": [
    "%timeit nth_prime(1)"
   ]
  },
  {
   "cell_type": "code",
   "execution_count": 6,
   "metadata": {},
   "outputs": [],
   "source": [
    "%load_ext cython"
   ]
  },
  {
   "cell_type": "code",
   "execution_count": 31,
   "metadata": {},
   "outputs": [],
   "source": [
    "%%cython\n",
    "\n",
    "def nth_prime_cython(n):\n",
    "    cdef int n_found = 0\n",
    "    cdef int candidate = 2\n",
    "    cdef int good \n",
    "    cdef int div\n",
    "    while True:\n",
    "        good = True\n",
    "        for div in range(2, candidate):\n",
    "            if candidate % div == 0:\n",
    "                good = False\n",
    "                break\n",
    "        if good:\n",
    "            n_found += 1\n",
    "            if n_found == n:\n",
    "                return candidate\n",
    "        # try with the next number\n",
    "        candidate += 1"
   ]
  },
  {
   "cell_type": "code",
   "execution_count": 32,
   "metadata": {},
   "outputs": [
    {
     "name": "stdout",
     "output_type": "stream",
     "text": [
      "29.6 ns ± 0.459 ns per loop (mean ± std. dev. of 7 runs, 10,000,000 loops each)\n"
     ]
    }
   ],
   "source": [
    "%timeit nth_prime_cython(1)"
   ]
  },
  {
   "cell_type": "code",
   "execution_count": 30,
   "metadata": {},
   "outputs": [],
   "source": [
    "assert nth_prime_cython(1) == 2"
   ]
  },
  {
   "cell_type": "code",
   "execution_count": null,
   "metadata": {},
   "outputs": [],
   "source": []
  }
 ],
 "metadata": {
  "kernelspec": {
   "display_name": "Python 3 (ipykernel)",
   "language": "python",
   "name": "python3"
  },
  "language_info": {
   "codemirror_mode": {
    "name": "ipython",
    "version": 3
   },
   "file_extension": ".py",
   "mimetype": "text/x-python",
   "name": "python",
   "nbconvert_exporter": "python",
   "pygments_lexer": "ipython3",
   "version": "3.10.6"
  }
 },
 "nbformat": 4,
 "nbformat_minor": 2
}
